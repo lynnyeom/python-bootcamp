{
 "cells": [
  {
   "cell_type": "code",
   "execution_count": null,
   "metadata": {},
   "outputs": [],
   "source": [
    "# HW01_ch02_ex02\n",
    "# NOTE: You do not run this script.\n",
    "# #\n",
    "# Practice using the Python interpreter as a calculator.\n",
    "# Paste answer and calculations below\n",
    "\n",
    "# 1. The volume of a sphere with radius r is 4/3 π r^3.\n",
    "# What is the volume of a sphere with radius 5? [523.5986666666666]\n",
    "# [r = 5, pi = 3.141592, sphere = 4 / 3 * pi * (r**3)]\n",
    "\n",
    "# 2. Suppose the cover price of a book is $24.95, but bookstores get a\n",
    "# 40% discount. Shipping costs $3 for the first copy and 75 cents for\n",
    "# each additional copy. What is the total wholesale cost for 60 copies?\n",
    "# total wholesale cost: [945.4499999999999]\n",
    "# [p = 24.95, bp = p *.6, n = 60, w = bp * 60 + (3 + (n-1) * .75)]\n",
    "\n",
    "# 3. If I leave my house at 6:52 am and run 1 mile at an easy pace\n",
    "# (8:15 per mile), then 3 miles at tempo (7:12 per mile) and 1 mile at easy\n",
    "# pace again, what time do I get home for breakfast?\n",
    "# time: [You will get home at 7 : 30]\n",
    "# [start_time = (6 + (52 / 60)), easy_pace = 2 * ( 8/60 + 15/(60**2) ), fast_pace = 3 * ( 7/60 + 12/(60**2) ), \n",
    "# end_time = start_time + easy_pace + fast_pace, end_time_hour = int(end_time), end_time_min = int((end_time - int(end_time)) * 60)]\n"
   ]
  },
  {
   "cell_type": "code",
   "execution_count": 1,
   "metadata": {},
   "outputs": [
    {
     "name": "stdout",
     "output_type": "stream",
     "text": [
      "523.5986666666666\n",
      "945.4499999999999\n",
      "You will get home at 7 : 30\n"
     ]
    }
   ],
   "source": [
    "r = 5\n",
    "pi = 3.141592\n",
    "sphere = 4 / 3 * pi * (r**3)\n",
    "\n",
    "print(sphere)\n",
    "\n",
    "p = 24.95\n",
    "bp = p *.6\n",
    "n = 60\n",
    "w = bp * 60 + (3 + (n-1) * .75)\n",
    "\n",
    "print(w)\n",
    "\n",
    "start_time = (6 + (52 / 60))\n",
    "easy_pace = 2 * ( 8/60 + 15/(60**2) )\n",
    "fast_pace = 3 * ( 7/60 + 12/(60**2) )\n",
    "end_time = start_time + easy_pace + fast_pace\n",
    "end_time_hour = int(end_time)\n",
    "end_time_min = int((end_time - int(end_time)) * 60)\n",
    "\n",
    "print('You will get home at',end_time_hour,':',end_time_min )"
   ]
  }
 ],
 "metadata": {
  "kernelspec": {
   "display_name": "Python 3",
   "language": "python",
   "name": "python3"
  },
  "language_info": {
   "codemirror_mode": {
    "name": "ipython",
    "version": 3
   },
   "file_extension": ".py",
   "mimetype": "text/x-python",
   "name": "python",
   "nbconvert_exporter": "python",
   "pygments_lexer": "ipython3",
   "version": "3.6.8"
  }
 },
 "nbformat": 4,
 "nbformat_minor": 2
}
