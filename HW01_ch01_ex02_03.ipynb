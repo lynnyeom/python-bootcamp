{
 "cells": [
  {
   "cell_type": "code",
   "execution_count": 1,
   "metadata": {},
   "outputs": [
    {
     "name": "stdout",
     "output_type": "stream",
     "text": [
      "0.0024243482139826703\n",
      "0.14546089283896022\n",
      "8.727653570337614\n"
     ]
    }
   ],
   "source": [
    "# HW01_ch01_ex02_03\n",
    "# Start the Python interpreter and use it as a calculator.\n",
    "# Python's syntax for math operations is almost the same as\n",
    "# standard mathematical notation. For example, the symbols\n",
    "# +, - and / denote addition, subtraction and division, as you would expect.\n",
    "# The symbol for multiplication is *.\n",
    "\n",
    "# If you run a 10 kilometer race in 42 minutes 42 seconds, what is your\n",
    "# average pace (time per mile in minutes and seconds)? What is your average\n",
    "# speed in miles per hour?\n",
    "\n",
    "# Insert Answers\n",
    "# Average Pace (minutes & seconds per mile): 0.14546089283896022/0.0024243482139826703\n",
    "# Average Speed in MPH:  8.727653570337614\n",
    "\n",
    "# Insert calculations below (paste from the interpreter):\n",
    "\n",
    "d = 10/1.61 #km to miles\n",
    "t = (42*60)+42 #min to sec\n",
    "avgpace_sec = d/t\n",
    "avgpace_min = (d/t)*60\n",
    "s = (d/t)*60*60\n",
    "\n",
    "print(avgpace_sec)\n",
    "print(avgpace_min)\n",
    "print(s)"
   ]
  }
 ],
 "metadata": {
  "kernelspec": {
   "display_name": "Python 3",
   "language": "python",
   "name": "python3"
  },
  "language_info": {
   "codemirror_mode": {
    "name": "ipython",
    "version": 3
   },
   "file_extension": ".py",
   "mimetype": "text/x-python",
   "name": "python",
   "nbconvert_exporter": "python",
   "pygments_lexer": "ipython3",
   "version": "3.6.8"
  }
 },
 "nbformat": 4,
 "nbformat_minor": 2
}
