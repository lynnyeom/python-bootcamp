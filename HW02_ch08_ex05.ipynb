{
 "cells": [
  {
   "cell_type": "code",
   "execution_count": 1,
   "metadata": {},
   "outputs": [],
   "source": [
    "\"\"\"A Caesar cypher is a weak form of encryption that involves \n",
    "    “rotating” each letter by a fixed number of places. To rotate a letter means to \n",
    "    shift it through the alphabet, wrapping around to the beginning if necessary, so \n",
    "    ’A’ rotated by 3 is ’D’ and ’Z’ rotated by 1 is ’A’.\n",
    "\n",
    "    To rotate a word, rotate each letter by the same amount. For example, “cheer” rotated by 7 is \n",
    "    “jolly” and “melon” rotated by -10 is “cubed”. In the movie 2001: A Space Odyssey, the ship \n",
    "    computer is called HAL, which is IBM rotated by -1.\n",
    "\n",
    "    Write a function called rotate_word that takes a string and an integer as parameters, and returns \n",
    "    a new string that contains the letters from the original string rotated by the given amount.\n",
    "\n",
    "    You might want to use the built-in function ord, which converts a character to a numeric code, \n",
    "    and chr, which converts numeric codes to characters. Letters of the alphabet are encoded in \n",
    "    alphabetical order, so for example:\n",
    "\n",
    "    >>> ord('c') - ord('a')\n",
    "    2\n",
    "\n",
    "    Because 'c' is the two-eth letter of the alphabet. But beware: the numeric codes for upper case \n",
    "    letters are different.\"\"\"\n",
    "\n",
    "def rotate_letter(letter,n):\n",
    "    new_letter_int = ord(letter) + n\n",
    "    return chr(new_letter_int)\n",
    "    \n",
    "def rotate_word(word, n):\n",
    "    new_word = ''\n",
    "    for letter in word:\n",
    "        new_word = new_word + rotate_letter(letter,n)\n",
    "    return new_word"
   ]
  },
  {
   "cell_type": "code",
   "execution_count": 3,
   "metadata": {},
   "outputs": [
    {
     "data": {
      "text/plain": [
       "'jolly'"
      ]
     },
     "execution_count": 3,
     "metadata": {},
     "output_type": "execute_result"
    }
   ],
   "source": [
    "def rotate_letter(letter,n):\n",
    "    new_letter_int = ord(letter) + n\n",
    "    return chr(new_letter_int)\n",
    "    \n",
    "def rotate_word(word, n):\n",
    "    new_word = ''\n",
    "    for letter in word:\n",
    "        new_word = new_word + rotate_letter(letter,n)\n",
    "    return new_word\n",
    "rotate_word('Cheer',7)\n",
    "rotate_word('cheer',7)"
   ]
  }
 ],
 "metadata": {
  "kernelspec": {
   "display_name": "Python 3",
   "language": "python",
   "name": "python3"
  },
  "language_info": {
   "codemirror_mode": {
    "name": "ipython",
    "version": 3
   },
   "file_extension": ".py",
   "mimetype": "text/x-python",
   "name": "python",
   "nbconvert_exporter": "python",
   "pygments_lexer": "ipython3",
   "version": "3.6.8"
  }
 },
 "nbformat": 4,
 "nbformat_minor": 2
}
