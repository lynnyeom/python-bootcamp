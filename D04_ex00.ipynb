{
 "cells": [
  {
   "cell_type": "code",
   "execution_count": 10,
   "metadata": {},
   "outputs": [
    {
     "name": "stdout",
     "output_type": "stream",
     "text": [
      "5\n",
      "Guess what the number is: 5\n",
      "This is correct!\n"
     ]
    }
   ],
   "source": [
    "import random\n",
    "y = random.randint(1,25)\n",
    "print(y)\n",
    "while True:\n",
    "    x = int(input(\"Guess what the number is: \"))\n",
    "    count = 0\n",
    "    if x == y or count ==5 :\n",
    "        print(\"This is correct!\")\n",
    "        break\n",
    "    elif x > y :\n",
    "        print(\"Guess lower!\")\n",
    "        count = count + 1\n",
    "    elif x < y :\n",
    "        print(\"Guess higher!\")\n",
    "        count = count + 1\n",
    "if count == 5:\n",
    "    print(\"Time Out!\")"
   ]
  }
 ],
 "metadata": {
  "kernelspec": {
   "display_name": "Python 3",
   "language": "python",
   "name": "python3"
  },
  "language_info": {
   "codemirror_mode": {
    "name": "ipython",
    "version": 3
   },
   "file_extension": ".py",
   "mimetype": "text/x-python",
   "name": "python",
   "nbconvert_exporter": "python",
   "pygments_lexer": "ipython3",
   "version": "3.6.8"
  }
 },
 "nbformat": 4,
 "nbformat_minor": 2
}
