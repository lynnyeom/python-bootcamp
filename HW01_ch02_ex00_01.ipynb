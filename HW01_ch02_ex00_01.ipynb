{
 "cells": [
  {
   "cell_type": "code",
   "execution_count": 3,
   "metadata": {},
   "outputs": [
    {
     "name": "stdout",
     "output_type": "stream",
     "text": [
      "Hello World!\n",
      "5\n",
      "x = 5\n",
      "x + 1\n",
      "Hello World!\n"
     ]
    }
   ],
   "source": [
    "# HW01_ch02_ex00_01\n",
    "# See section 2.4\n",
    "# (1) Type the following statements in the Python interpreter to see what they\n",
    "# do:\n",
    "# 5\n",
    "# x = 5\n",
    "# x + 1\n",
    "\n",
    "\n",
    "\n",
    "# (2) Now put the same statements into a script [this script] and run it.\n",
    "# enter statements below this line ########\n",
    "\n",
    "5\n",
    "x = 5\n",
    "x + 1\n",
    "\n",
    "print(\"Hello World!\")  # example\n",
    "\n",
    "\n",
    "# enter statements above this line ########\n",
    "# What is the output?\n",
    "# [\"Hello World!\"]\n",
    "#\n",
    "# (3) Modify the script above by transforming each expression into a print\n",
    "# statement and then run it again.\n",
    "print(5)\n",
    "print(\"x = 5\")\n",
    "print(\"x + 1\")\n",
    "\n",
    "print(\"Hello World!\")\n",
    "# What is the output?\n",
    "# [Python prints the inputs]\n"
   ]
  }
 ],
 "metadata": {
  "kernelspec": {
   "display_name": "Python 3",
   "language": "python",
   "name": "python3"
  },
  "language_info": {
   "codemirror_mode": {
    "name": "ipython",
    "version": 3
   },
   "file_extension": ".py",
   "mimetype": "text/x-python",
   "name": "python",
   "nbconvert_exporter": "python",
   "pygments_lexer": "ipython3",
   "version": "3.6.8"
  }
 },
 "nbformat": 4,
 "nbformat_minor": 2
}
