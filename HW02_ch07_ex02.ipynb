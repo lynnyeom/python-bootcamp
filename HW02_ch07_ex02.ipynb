{
 "cells": [
  {
   "cell_type": "code",
   "execution_count": null,
   "metadata": {},
   "outputs": [],
   "source": [
    "#!/usr/bin/env python3\n",
    "# HW04_ch07_ex02\n",
    "\n",
    "# The built-in function eval takes a string and evaluates it using the Python\n",
    "# interpreter.\n",
    "# For example:\n",
    "\n",
    "#     >>> eval('1 + 2 * 3')\n",
    "#     7\n",
    "#     >>> import math\n",
    "#     >>> eval('math.sqrt(5)')\n",
    "#     2.2360679774997898\n",
    "#     >>> eval('type(math.pi)')\n",
    "#     <type 'float'>\n",
    "\n",
    "# Write a function called eval_loop that iteratively prompts the user, takes\n",
    "# the resulting input and evaluates it using eval, and prints the result.\n",
    "\n",
    "# It should continue until the user enters 'done', and then return the value of\n",
    "# the last expression it evaluated.\n",
    "\n",
    "# Here is an opportunity to use things like `try`, `except`, and/or `finally`.\n",
    "\n",
    "# Please write a docstring for every function you write.\n",
    "\n",
    "###############################################################################\n",
    "# Imports\n",
    "def eval_loop():\n",
    "    user = input(\"Please give us an input =\")\n",
    "    if :\n",
    "        previous_eval = eval(user)\n",
    "        print(previous_eval)\n",
    "        eval_loop()\n",
    "    elif :\n",
    "        user == \"done\"\n",
    "        print(previous_eval)\n",
    "        \n",
    "    finally :\n",
    "        user != int\n",
    "        print(\"This is not a number\")\n",
    "        eval_loop()\n",
    "\n",
    "# Body\n",
    "\n",
    "\n",
    "###############################################################################\n",
    "def main():\n",
    "    pass  # Remove this line and uncomment below once eval_loop is defined.\n",
    "    # print(eval_loop())\n",
    "\n",
    "\n",
    "if __name__ == '__main__':\n",
    "    main()\n"
   ]
  },
  {
   "cell_type": "code",
   "execution_count": null,
   "metadata": {},
   "outputs": [],
   "source": [
    "def eval_loop():\n",
    "    user = input(\"Please give us an input =\")\n",
    "    if :\n",
    "        previous_eval = eval(user)\n",
    "        print(previous_eval)\n",
    "        eval_loop()\n",
    "    except :\n",
    "        user != int\n",
    "        print(\"This is not a number\")\n",
    "        eval_loop()\n",
    "    finally :\n",
    "        user == \"done\"\n",
    "        print(previous_eval)\n",
    "\n",
    "eval_loop()"
   ]
  }
 ],
 "metadata": {
  "kernelspec": {
   "display_name": "Python 3",
   "language": "python",
   "name": "python3"
  },
  "language_info": {
   "codemirror_mode": {
    "name": "ipython",
    "version": 3
   },
   "file_extension": ".py",
   "mimetype": "text/x-python",
   "name": "python",
   "nbconvert_exporter": "python",
   "pygments_lexer": "ipython3",
   "version": "3.6.8"
  }
 },
 "nbformat": 4,
 "nbformat_minor": 2
}
