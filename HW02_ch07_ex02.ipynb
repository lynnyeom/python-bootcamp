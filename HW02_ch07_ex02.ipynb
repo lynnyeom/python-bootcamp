{
 "cells": [
  {
   "cell_type": "code",
   "execution_count": null,
   "metadata": {},
   "outputs": [],
   "source": [
    "def eval_loop():\n",
    "    user = input(\"Please give us an input =\")\n",
    "    try :\n",
    "        previous_eval = eval(user)\n",
    "        print(previous_eval)\n",
    "        eval_loop()\n",
    "    except :\n",
    "        user != int\n",
    "        print(\"This is not a number\")\n",
    "        eval_loop()\n",
    "    finally :\n",
    "        user == \"done\"\n",
    "        print(previous_eval)\n",
    "\n",
    "eval_loop()"
   ]
  },
  {
   "cell_type": "code",
   "execution_count": null,
   "metadata": {},
   "outputs": [],
   "source": []
  }
 ],
 "metadata": {
  "kernelspec": {
   "display_name": "Python 3",
   "language": "python",
   "name": "python3"
  },
  "language_info": {
   "codemirror_mode": {
    "name": "ipython",
    "version": 3
   },
   "file_extension": ".py",
   "mimetype": "text/x-python",
   "name": "python",
   "nbconvert_exporter": "python",
   "pygments_lexer": "ipython3",
   "version": "3.6.8"
  }
 },
 "nbformat": 4,
 "nbformat_minor": 2
}
