{
 "cells": [
  {
   "cell_type": "code",
   "execution_count": null,
   "metadata": {},
   "outputs": [],
   "source": [
    "#!/usr/bin/env python3\n",
    "# HW04_ch07_ex02\n",
    "\n",
    "# The built-in function eval takes a string and evaluates it using the Python\n",
    "# interpreter.\n",
    "# For example:\n",
    "\n",
    "#     >>> eval('1 + 2 * 3')\n",
    "#     7\n",
    "#     >>> import math\n",
    "#     >>> eval('math.sqrt(5)')\n",
    "#     2.2360679774997898\n",
    "#     >>> eval('type(math.pi)')\n",
    "#     <type 'float'>\n",
    "\n",
    "# Write a function called eval_loop that iteratively prompts the user, takes\n",
    "# the resulting input and evaluates it using eval, and prints the result.\n",
    "\n",
    "# It should continue until the user enters 'done', and then return the value of\n",
    "# the last expression it evaluated.\n",
    "\n",
    "# Here is an opportunity to use things like `try`, `except`, and/or `finally`.\n",
    "\n",
    "# Please write a docstring for every function you write.\n",
    "\n",
    "###############################################################################\n",
    "# Imports\n",
    "def eval_loop():\n",
    "    finish = ''\n",
    "    while True:\n",
    "        evaluate = input(\"Please give us an input = \")\n",
    "        if evaluate != int:\n",
    "            print(\"This is not a number\")\n",
    "        else evaluate == int:\n",
    "            finish = eval(to_evaluate)\n",
    "            eval_loop()\n",
    "        else: evaluate == \"done\":\n",
    "            return finish\n",
    "            break\n",
    "\n",
    "\n",
    "# Body\n",
    "\n",
    "\n",
    "###############################################################################\n",
    "def main():\n",
    "    pass  # Remove this line and uncomment below once eval_loop is defined.\n",
    "    # print(eval_loop())\n",
    "\n",
    "\n",
    "if __name__ == '__main__':\n",
    "    main()\n"
   ]
  },
  {
   "cell_type": "code",
   "execution_count": null,
   "metadata": {},
   "outputs": [],
   "source": [
    "def eval_loop():\n",
    "    for user \n",
    "    user = input(\"Please give us an input =\")\n",
    "    if :\n",
    "        previous_eval = eval(user)\n",
    "        print(previous_eval)\n",
    "        eval_loop()\n",
    "    except :\n",
    "        user != int\n",
    "        print(\"This is not a number\")\n",
    "        eval_loop()\n",
    "    finally :\n",
    "        user == \"done\"\n",
    "        print(previous_eval)\n",
    "\n",
    "eval_loop()"
   ]
  },
  {
   "cell_type": "code",
   "execution_count": null,
   "metadata": {},
   "outputs": [],
   "source": [
    "def donut(x):\n",
    "    \n",
    "try:\n",
    "    donut(google)\n",
    "except Exception as e:\n",
    "    print(e)\n",
    "#if you dont know what exception you will get "
   ]
  },
  {
   "cell_type": "code",
   "execution_count": null,
   "metadata": {},
   "outputs": [],
   "source": [
    "try:\n",
    "    x = int(input(\"give me a number:\"))\n",
    "except ValueError: # you can figure out the type of errors by ltesting the error out.\n",
    "    "
   ]
  },
  {
   "cell_type": "code",
   "execution_count": 2,
   "metadata": {
    "scrolled": true
   },
   "outputs": [
    {
     "name": "stdout",
     "output_type": "stream",
     "text": [
      "type something = 3+4\n",
      "7\n",
      "type something = hey\n",
      "Can't calculate. Let's try again\n",
      "type something = done\n",
      "previous result is 7\n"
     ]
    }
   ],
   "source": [
    "import math\n",
    "def e_loop(prev_result = None): # default value\n",
    "    userinput = input(\"type something = \")\n",
    "    if userinput == \"done\":\n",
    "        print(\"previous result is \" + str(prev_result))\n",
    "        return \n",
    "    else:\n",
    "        try:\n",
    "            prev_result = eval(userinput)\n",
    "            print(prev_result)\n",
    "            e_loop(prev_result)\n",
    "        except ValueError and NameError:\n",
    "            print(\"Can't calculate. Let's try again\")\n",
    "            e_loop(prev_result)\n",
    "e_loop()"
   ]
  },
  {
   "cell_type": "code",
   "execution_count": null,
   "metadata": {},
   "outputs": [],
   "source": [
    "# Imports\n",
    "import math\n",
    "# Body\n",
    "def eval_loop():\n",
    "    while True:\n",
    "        sth = input(“Please enter a word: “)\n",
    "        if sth == ‘done’:\n",
    "            print(y)\n",
    "            break\n",
    "        try:\n",
    "           x = eval(sth)\n",
    "       except Exception as e:\n",
    "           print(“please try again!“)\n",
    "       y = sth"
   ]
  }
 ],
 "metadata": {
  "kernelspec": {
   "display_name": "Python 3",
   "language": "python",
   "name": "python3"
  },
  "language_info": {
   "codemirror_mode": {
    "name": "ipython",
    "version": 3
   },
   "file_extension": ".py",
   "mimetype": "text/x-python",
   "name": "python",
   "nbconvert_exporter": "python",
   "pygments_lexer": "ipython3",
   "version": "3.6.8"
  }
 },
 "nbformat": 4,
 "nbformat_minor": 2
}
