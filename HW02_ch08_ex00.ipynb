{
 "cells": [
  {
   "cell_type": "code",
   "execution_count": null,
   "metadata": {},
   "outputs": [],
   "source": [
    "#!/usr/bin/env python3\n",
    "# HW04_ch08_ex00\n",
    "# See 8.7\n",
    "\n",
    "# The following program counts the number of times the letter 'a' appears in a\n",
    "# string:\n",
    "\n",
    "#     word = 'banana'\n",
    "#     count = 0\n",
    "#     for letter in word:\n",
    "#         if letter == 'a':\n",
    "#             count = count + 1\n",
    "#     print(count)\n",
    "\n",
    "# Encapsulate this code in a function named \"count\", and generalize it so that\n",
    "# it accepts the string and the letter as arguments.\n",
    "\n",
    "# Please write a docstring for every function you write.\n",
    "\n",
    "###############################################################################\n",
    "# Imports\n",
    "\n",
    "def count():\n",
    "    x = input(\"Please type a word= \")\n",
    "    y = input(\"Type a letter you want to find = \")\n",
    "    number = 0\n",
    "    for letter in x:\n",
    "        if letter == 'y':\n",
    "            number = number + 1\n",
    "    print(number)\n",
    "\n",
    "count()\n",
    "\n",
    "# Body\n",
    "\n",
    "\n",
    "###############################################################################\n",
    "def main():\n",
    "\n",
    "    # Remove print(\"Hello World!\") and add several functions calls to count()\n",
    "    # below, passing various strings and letters\n",
    "    print(\"Hello World!\")\n",
    "\n",
    "\n",
    "if __name__ == '__main__':\n",
    "    main()"
   ]
  }
 ],
 "metadata": {
  "kernelspec": {
   "display_name": "Python 3",
   "language": "python",
   "name": "python3"
  },
  "language_info": {
   "codemirror_mode": {
    "name": "ipython",
    "version": 3
   },
   "file_extension": ".py",
   "mimetype": "text/x-python",
   "name": "python",
   "nbconvert_exporter": "python",
   "pygments_lexer": "ipython3",
   "version": "3.6.8"
  }
 },
 "nbformat": 4,
 "nbformat_minor": 2
}
