{
 "cells": [
  {
   "cell_type": "code",
   "execution_count": 4,
   "metadata": {},
   "outputs": [
    {
     "name": "stdout",
     "output_type": "stream",
     "text": [
      "8.5\n",
      "<class 'float'>\n",
      "8.5\n",
      "<class 'float'>\n",
      "4.0\n",
      "<class 'float'>\n",
      "11\n",
      "<class 'int'>\n",
      ".....\n",
      "<class 'str'>\n"
     ]
    }
   ],
   "source": [
    "# HW01_ch02_ex00_02\n",
    "# NOTE: You do not run this script.\n",
    "# Assume that we execute the following assignment statements:\n",
    "# width = 17\n",
    "# height = 12.0\n",
    "# delimiter = '.'\n",
    "#\n",
    "# For each of the following expressions, write the value of the expression\n",
    "# and the type (of the value of the expression).\n",
    "\n",
    "# 1. width/2\n",
    "# value: 8.5\n",
    "# type: float\n",
    "\n",
    "# 2. width/2.0\n",
    "# value: 8.5\n",
    "# type: float\n",
    "\n",
    "# 3. height/3\n",
    "# value: 4.0\n",
    "# type: float\n",
    "\n",
    "# 4. 1 + 2 * 5\n",
    "# value: 11\n",
    "# type: int\n",
    "\n",
    "# 5. delimiter * 5\n",
    "# value: .....\n",
    "# type:str\n",
    "#\n",
    "# Use the Python interpreter to check your answers.\n",
    "# last one suprises me because you are putting strings into equations]\n",
    "\n",
    "\n",
    "width = 17\n",
    "height = 12.0\n",
    "delimiter = '.'\n",
    "\n",
    "print(width/2)\n",
    "print(type(width/2))\n",
    "#float\n",
    "\n",
    "print(width/2.0)\n",
    "print(type(width/2.0))\n",
    "#float\n",
    "\n",
    "print(height/3)\n",
    "print(type(height/3))\n",
    "#float\n",
    "\n",
    "print(1 + 2 * 5)\n",
    "print(type(1 + 2 * 5))\n",
    "#int\n",
    "\n",
    "print(delimiter * 5)\n",
    "print(type(delimiter * 5))\n",
    "#string\n"
   ]
  }
 ],
 "metadata": {
  "kernelspec": {
   "display_name": "Python 3",
   "language": "python",
   "name": "python3"
  },
  "language_info": {
   "codemirror_mode": {
    "name": "ipython",
    "version": 3
   },
   "file_extension": ".py",
   "mimetype": "text/x-python",
   "name": "python",
   "nbconvert_exporter": "python",
   "pygments_lexer": "ipython3",
   "version": "3.6.8"
  }
 },
 "nbformat": 4,
 "nbformat_minor": 2
}
