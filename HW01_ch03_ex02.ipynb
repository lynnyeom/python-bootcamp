{
 "cells": [
  {
   "cell_type": "code",
   "execution_count": 2,
   "metadata": {},
   "outputs": [
    {
     "name": "stdout",
     "output_type": "stream",
     "text": [
      "spam\n",
      "spam\n",
      "spam\n",
      "spam\n",
      "spam\n",
      "spam\n",
      "3\n",
      "3\n",
      "3\n",
      "3\n",
      "3\n",
      "3\n",
      "3\n",
      "3\n"
     ]
    }
   ],
   "source": [
    "#!/usr/bin/env python\n",
    "# HW02_ch03_ex02\n",
    "\n",
    "# A function object is a value you can assign to a variable or pass as an\n",
    "# argument. For example, do_twice is a function that takes a function object\n",
    "# as an argument and calls it twice:\n",
    "\n",
    "# def do_twice(f):\n",
    "#     f()\n",
    "#     f()\n",
    "\n",
    "# Here's an example that uses `do_twice` to call a function named `print_spam`\n",
    "# twice.\n",
    "# def print_spam():\n",
    "#     print('spam')\n",
    "\n",
    "# do_twice(print_spam)\n",
    "\n",
    "###############################################################################\n",
    "# Write your functions below:\n",
    "# Body\n",
    "\n",
    "\n",
    "\n",
    "# 1. Type this example into this script and test it.\n",
    "def do_twice(f):\n",
    "    f()\n",
    "    f()\n",
    "\n",
    "def print_spam():\n",
    "    print('spam')\n",
    "    \n",
    "do_twice(print_spam)\n",
    "\n",
    "# 2. Modify `do_twice` so that it takes two arguments, a function object and a\n",
    "# value, and calls the function twice, passing the value as an argument.\n",
    "\n",
    "\n",
    "def do_twice(f,x):\n",
    "    f(x)\n",
    "    f(x)\n",
    "\n",
    "\n",
    "# 3. Write a more general version of `print_spam`, called `print_twice`, that\n",
    "# takes a string as a parameter and prints it twice.\n",
    "v= 'string'\n",
    "\n",
    "def print_twice(v):\n",
    "    print(v)\n",
    "    print(v)\n",
    "\n",
    "# 4. Use the modified version of `do_twice` to call `print_twice` twice,\n",
    "# passing 'spam' as an argument.\n",
    "\n",
    "do_twice(print_twice, 'spam')\n",
    "# 5. Define a new function called `do_four` that takes a function object and a\n",
    "# value and calls the function four times, passing the value as a parameter.\n",
    "# There should be only two statements in the body of this function, not four.\n",
    "def do_four(f,x):\n",
    "    do_twice(f,x)\n",
    "    do_twice(f,x)\n",
    "\n",
    "do_four(print_twice, 3)\n",
    "\n"
   ]
  }
 ],
 "metadata": {
  "kernelspec": {
   "display_name": "Python 3",
   "language": "python",
   "name": "python3"
  },
  "language_info": {
   "codemirror_mode": {
    "name": "ipython",
    "version": 3
   },
   "file_extension": ".py",
   "mimetype": "text/x-python",
   "name": "python",
   "nbconvert_exporter": "python",
   "pygments_lexer": "ipython3",
   "version": "3.6.8"
  }
 },
 "nbformat": 4,
 "nbformat_minor": 2
}
